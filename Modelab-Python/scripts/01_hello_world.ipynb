{
 "cells": [
  {
   "cell_type": "markdown",
   "metadata": {},
   "source": [
    "# Python \"Hello , World!\" Tutorial\n",
    "\n",
    "Python is a powerful, easy-to-learn programming language. One of the simplest programs you can write in Python is the \"Hello, World!\" program. This program will print the text \"Hello, World!\" to the console.\n",
    "\n",
    "## Writing the Program\n",
    "\n",
    "Here are the steps to write a \"Hello, World!\" program in Python:\n",
    "\n",
    "1. Open your text editor or Python IDE (Integrated Development Environment).\n",
    "2. Write the following code:\n"
   ]
  },
  {
   "cell_type": "code",
   "execution_count": null,
   "metadata": {},
   "outputs": [],
   "source": [
    "print(\"hello world\")"
   ]
  },
  {
   "cell_type": "code",
   "execution_count": null,
   "metadata": {},
   "outputs": [],
   "source": [
    "greetings = \"hello world\"\n",
    "\n",
    "print(greetings)"
   ]
  },
  {
   "cell_type": "code",
   "execution_count": null,
   "metadata": {},
   "outputs": [],
   "source": [
    "3 + 4  "
   ]
  },
  {
   "cell_type": "code",
   "execution_count": null,
   "metadata": {},
   "outputs": [],
   "source": [
    "a = 1\n",
    "b = 2\n",
    "c = a + b\n",
    "print(c)"
   ]
  },
  {
   "cell_type": "markdown",
   "metadata": {},
   "source": [
    "________________________________"
   ]
  },
  {
   "cell_type": "markdown",
   "metadata": {},
   "source": [
    "## Exercises  \n",
    "\n",
    "### Part 1: Printing \"Hello, World!\"\n",
    "Task: Write a Python program that prints the message:\n",
    "\n",
    "### Part 2: Simple Arithmetic Operations\n",
    "Task: Create a Python script that performs the following operations and prints the results:\n",
    "\n",
    "1. Addition: Add two numbers and print the result.\n",
    "\n",
    "2. Subtraction: Subtract one number from another and print the result.\n",
    "\n",
    "3. Multiplication: Multiply two numbers and print the result.\n",
    "\n",
    "4. Division: Divide one number by another and print the result.\n",
    "\n",
    "Hint: You can use + for addition, - for subtraction, * for multiplication, and / for division."
   ]
  },
  {
   "cell_type": "markdown",
   "metadata": {},
   "source": []
  }
 ],
 "metadata": {
  "kernelspec": {
   "display_name": "base",
   "language": "python",
   "name": "python3"
  },
  "language_info": {
   "codemirror_mode": {
    "name": "ipython",
    "version": 3
   },
   "file_extension": ".py",
   "mimetype": "text/x-python",
   "name": "python",
   "nbconvert_exporter": "python",
   "pygments_lexer": "ipython3",
   "version": "3.12.3"
  }
 },
 "nbformat": 4,
 "nbformat_minor": 2
}
