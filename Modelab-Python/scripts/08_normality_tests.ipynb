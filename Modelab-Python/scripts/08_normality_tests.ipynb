{
 "cells": [
  {
   "cell_type": "markdown",
   "metadata": {},
   "source": [
    "#   Normality test"
   ]
  },
  {
   "cell_type": "code",
   "execution_count": 1,
   "metadata": {},
   "outputs": [],
   "source": [
    "# Read the file into a DataFrame: df\n",
    "def import_csv(file):\n",
    "    # Read the file into a DataFrame: df\n",
    "    import pandas as pd\n",
    "    return pd.read_csv(file)"
   ]
  },
  {
   "cell_type": "code",
   "execution_count": 2,
   "metadata": {},
   "outputs": [
    {
     "name": "stdout",
     "output_type": "stream",
     "text": [
      "   sample      date     estuary   area station layer_depth season  \\\n",
      "0  CDL01S  5/3/2020  Candelaria  River   CDL01     Surface    Dry   \n",
      "1  CDL01F  5/3/2020  Candelaria  River   CDL01      Bottom    Dry   \n",
      "2  CDL02S  5/3/2020  Candelaria  River   CDL02     Surface    Dry   \n",
      "3  CDL02F  5/3/2020  Candelaria  River   CDL02      Bottom    Dry   \n",
      "4  CDL03S  5/3/2020  Candelaria  River   CDL03     Surface    Dry   \n",
      "\n",
      "   chlorophy_microg_l  cond_microsiemens_cm  depth_m  ...  do_mg_l  sal_psu  \\\n",
      "0                0.36                7015.4    0.464  ...     7.12     3.56   \n",
      "1                4.19               29886.1    7.792  ...     4.90    16.97   \n",
      "2                0.92               16691.1    0.453  ...     6.99     8.94   \n",
      "3                2.23               24847.4    1.261  ...     6.52    13.87   \n",
      "4                0.58               46341.6    0.465  ...     6.24    28.06   \n",
      "\n",
      "   sp_cond_microsiemens_cm  turbidity_fnu  temp_c  latitude  longitude  \\\n",
      "0                   6547.7           1.47  28.740  18.55736  -91.25012   \n",
      "1                  27751.2          95.33  29.028  18.55722  -91.24990   \n",
      "2                  15429.1           5.50  29.283  18.61007  -91.24410   \n",
      "3                  23074.0          13.44  29.024  18.61005  -91.24403   \n",
      "4                  43670.8           3.60  28.202  18.63166  -91.29359   \n",
      "\n",
      "   dic_micromol_kg  ta_micromol_kg  dummy_data  \n",
      "0             3915            3863      3685.0  \n",
      "1             3698            3685         NaN  \n",
      "2             3724            3708      3708.0  \n",
      "3             3667            3992      3992.0  \n",
      "4             2928            3023      3023.0  \n",
      "\n",
      "[5 rows x 21 columns]\n"
     ]
    }
   ],
   "source": [
    "# Path to the file to be imported\n",
    "path = \"../data/Terminos_lagoon_TA_DIC_2023_RawData.csv\"\n",
    "\n",
    "# Import the file\n",
    "CO2Data = import_csv(path)\n",
    "\n",
    "print(CO2Data.head())"
   ]
  },
  {
   "cell_type": "markdown",
   "metadata": {},
   "source": [
    "### Shapiro-Wilk Test\n",
    "- If the p-value of the test is greater than α = 0.05, then the data is assumed to be normally distributed."
   ]
  },
  {
   "cell_type": "code",
   "execution_count": 3,
   "metadata": {},
   "outputs": [
    {
     "name": "stdout",
     "output_type": "stream",
     "text": [
      "Estadístico= 0.87971, p-valor= 0.00000\n",
      "La distribución NO es normal (se rechaza H0)\n"
     ]
    }
   ],
   "source": [
    "from scipy.stats import shapiro\n",
    "\n",
    "ta = CO2Data['ta_micromol_kg']\n",
    "\n",
    "stat, p = shapiro(ta)\n",
    "print(f'Estadístico= {stat:.5f}, p-valor= {p:.5f}')\n",
    "if p > 0.05:\n",
    "    print(\"La distribución es normal (no se rechaza H0)\")\n",
    "else:\n",
    "    print(\"La distribución NO es normal (se rechaza H0)\")"
   ]
  },
  {
   "cell_type": "markdown",
   "metadata": {},
   "source": [
    "________________________________________________________________"
   ]
  },
  {
   "cell_type": "code",
   "execution_count": 4,
   "metadata": {},
   "outputs": [
    {
     "name": "stdout",
     "output_type": "stream",
     "text": [
      "Statistic= 0.87971, p-value= 0.00000\n",
      "The data is not normally distributed (reject H₀).\n"
     ]
    }
   ],
   "source": [
    "from scipy.stats import shapiro \n",
    "\n",
    "#perform Shapiro-Wilk test for normality\n",
    "\n",
    "TA = CO2Data['ta_micromol_kg']\n",
    "\n",
    "shapiro_results = shapiro(TA)\n",
    "\n",
    "\n",
    "print(f'Statistic= {stat:.5f}, p-value= {p:.5f}')\n",
    "\n",
    "if shapiro_results.pvalue < 0.05:\n",
    "    print(\"The data is not normally distributed (reject H₀).\")\n",
    "\n",
    "else:\n",
    "    print(\"The data is normally distributed (fail to reject H₀).\")\n",
    "\n",
    "    "
   ]
  },
  {
   "cell_type": "code",
   "execution_count": 5,
   "metadata": {},
   "outputs": [
    {
     "name": "stdout",
     "output_type": "stream",
     "text": [
      "ShapiroResult(statistic=np.float64(0.8797113785286559), pvalue=np.float64(9.071435657097518e-08))\n"
     ]
    }
   ],
   "source": [
    "print(shapiro_results)"
   ]
  },
  {
   "cell_type": "markdown",
   "metadata": {},
   "source": [
    "## Exercise:\n",
    "- Respond to the following question: When is it appropriate to use the Kolmogorov-Smirnov test instead of the Shapiro-Wilk test?\n",
    "- Based on the previous answer, perform the appropriate test to assess normality in the DIC (Dissolved Inorganic Carbon) and Salinity datasets."
   ]
  },
  {
   "cell_type": "markdown",
   "metadata": {},
   "source": []
  }
 ],
 "metadata": {
  "kernelspec": {
   "display_name": "environmental_python",
   "language": "python",
   "name": "python3"
  },
  "language_info": {
   "codemirror_mode": {
    "name": "ipython",
    "version": 3
   },
   "file_extension": ".py",
   "mimetype": "text/x-python",
   "name": "python",
   "nbconvert_exporter": "python",
   "pygments_lexer": "ipython3",
   "version": "3.10.18"
  }
 },
 "nbformat": 4,
 "nbformat_minor": 4
}
