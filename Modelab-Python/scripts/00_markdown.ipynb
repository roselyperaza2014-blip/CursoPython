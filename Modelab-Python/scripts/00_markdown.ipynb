{
 "cells": [
  {
   "cell_type": "markdown",
   "metadata": {},
   "source": [
    "\n",
    "# Título del proyecto curso python\n",
    "\n",
    "\n",
    "\n"
   ]
  },
  {
   "cell_type": "markdown",
   "metadata": {},
   "source": [
    "# Título...\n",
    "## Subtítulo...\n",
    "### Otro subtítulo menor...\n",
    "\n",
    "*rose peraza*\n",
    "\n",
    "**rose peraza**"
   ]
  },
  {
   "cell_type": "markdown",
   "metadata": {},
   "source": [
    "*rosely2*\n",
    "**rosely2**"
   ]
  },
  {
   "cell_type": "markdown",
   "metadata": {},
   "source": [
    "* Item 1\n",
    "* Item 2\n",
    "* Item 3 y así sucesivamente\n",
    "\n",
    "1. Item 1\n",
    "2. Item 2\n",
    "3. Item 3\n",
    "4. Item 4 y así sucesivamente"
   ]
  },
  {
   "cell_type": "markdown",
   "metadata": {},
   "source": [
    "\n",
    "## Use Markdown to create a link to:\n",
    "\n",
    "1. [Google](https://www.google.com)\n",
    "\n",
    "2. [The **GitHub** homepage.](https://github.com/gilbertoCM/env_data_analysis_pytho)\n",
    "\n",
    "Mi ejemplo:\n",
    "\n",
    "3. [NMITA](https://nmita.rsmas.miami.edu/)\n"
   ]
  },
  {
   "cell_type": "markdown",
   "metadata": {},
   "source": [
    "________________________________"
   ]
  },
  {
   "cell_type": "markdown",
   "metadata": {},
   "source": [
    "## Blockquotes\n",
    "\n",
    "To create a blockquote, add a > in front of a paragraph.\n",
    "\n",
    "> Dorothy followed her through many of the beautiful rooms in her castle.\n",
    "\n",
    "\n",
    "Mi ejemplo\n",
    "> rosely blockquote"
   ]
  },
  {
   "cell_type": "markdown",
   "metadata": {},
   "source": [
    "![Flowchart figure exmaple](../manuals/figures/flowchart_one_way_ANOVA.png)\n",
    "\n",
    "Mi ejemplo:\n",
    "\n",
    "![saccella](..\\Documents\\CursoPython\\Saccella cf commutata_1.png)\n",
    "\n"
   ]
  },
  {
   "cell_type": "markdown",
   "metadata": {},
   "source": [
    "> No supe añadir la imagen de Saccella"
   ]
  },
  {
   "cell_type": "code",
   "execution_count": null,
   "metadata": {},
   "outputs": [],
   "source": []
  },
  {
   "cell_type": "markdown",
   "metadata": {},
   "source": [
    "## Reference-style Links\n"
   ]
  },
  {
   "cell_type": "markdown",
   "metadata": {},
   "source": [
    "\n",
    "[Estadística para investigadores][1]\n",
    "\n",
    "[Hobbit-hole][2]\n",
    "\n",
    "[Basic Syntax][3]\n",
    "\n",
    "[1]: https://youtube.com/playlist?list=PLdI70BSoHQSpt7LbzDiREW-ZDd6FggZUT&si=K7fqiIrcdXsQmV2z\n",
    "[2]: https://en.wikipedia.org/wiki/Hobbit#Lifestyle\n",
    "[3]: https://www.markdownguide.org/basic-syntax/#blockquotes-1\n",
    "\n",
    "\n",
    "Mi ejemplo:\n",
    "\n",
    "[worms][4]\n",
    "\n",
    "[4]: https://www.marinespecies.org/"
   ]
  },
  {
   "cell_type": "markdown",
   "metadata": {},
   "source": []
  }
 ],
 "metadata": {
  "kernelspec": {
   "display_name": "base",
   "language": "python",
   "name": "python3"
  },
  "language_info": {
   "codemirror_mode": {
    "name": "ipython",
    "version": 3
   },
   "file_extension": ".py",
   "mimetype": "text/x-python",
   "name": "python",
   "nbconvert_exporter": "python",
   "pygments_lexer": "ipython3",
   "version": "3.13.5"
  }
 },
 "nbformat": 4,
 "nbformat_minor": 2
}
