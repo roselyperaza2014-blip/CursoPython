{
 "cells": [
  {
   "attachments": {},
   "cell_type": "markdown",
   "metadata": {},
   "source": [
    "- Import library and read data with pandas "
   ]
  },
  {
   "cell_type": "markdown",
   "metadata": {},
   "source": [
    "### Spearman's Correlation"
   ]
  },
  {
   "cell_type": "code",
   "execution_count": null,
   "metadata": {},
   "outputs": [],
   "source": [
    "# Read in the data from the csv file\n",
    "\n",
    "import pandas as pd\n",
    "\n",
    "CO2Data = pd.read_csv(\"../data/Terminos_lagoon_TA_DIC_2023_RawData.csv\")"
   ]
  },
  {
   "cell_type": "code",
   "execution_count": null,
   "metadata": {},
   "outputs": [],
   "source": [
    "from scipy import stats\n",
    "\n",
    "def test_spearman(x, y, alpha=0.05):\n",
    "    if len(x) != len(y):\n",
    "        raise ValueError(\"Las variables deben tener la misma longitud.\")\n",
    "\n",
    "    rho, pval = stats.spearmanr(x, y)\n",
    "\n",
    "    print(f\"Spearman's correlation coefficient (rho): {rho:.3f}\")\n",
    "    print(f\"p-value: {pval:.4f}\")\n",
    "\n",
    "    if pval < alpha:\n",
    "        print(f\"✔️ Significant relationship (p < {alpha:.3f})\")\n",
    "    else:\n",
    "        print(f\"⚠️ No significant relationship (p ≥ {alpha:.3f})\")\n",
    "\n",
    "    if rho > 0:\n",
    "        print(\"📈 Positive correlation\")\n",
    "    else:\n",
    "        print(\"📉 Negative correlation\")"
   ]
  },
  {
   "cell_type": "code",
   "execution_count": null,
   "metadata": {},
   "outputs": [],
   "source": [
    "test_spearman(CO2Data[\"ta_micromol_kg\"], CO2Data[\"dic_micromol_kg\"])"
   ]
  },
  {
   "cell_type": "markdown",
   "metadata": {},
   "source": [
    "### Exercise: Create a function to compute the Pearson correlation.\n",
    "---"
   ]
  },
  {
   "cell_type": "markdown",
   "metadata": {},
   "source": [
    "\n",
    "\n",
    "**When to Use Spearman's Correlation**\n",
    "\n",
    "Spearman's correlation is a non-parametric measure that evaluates the strength and direction of the association between two variables based on their ranks. Consider using Spearman's correlation in the following scenarios:\n",
    "\n",
    "1. **Non-Normal Data**: When your data do not follow a normal distribution, Spearman's correlation is appropriate because it does not assume normality.\n",
    "\n",
    "2. **Ordinal Data**: If your variables are ordinal (i.e., they represent categories with a meaningful order but unknown intervals), Spearman's correlation is suitable. For example, rankings like first, second, and third place.\n",
    "\n",
    "3. **Monotonic Relationships**: When the relationship between two variables is monotonic but not necessarily linear—meaning as one variable increases, the other either consistently increases or decreases—Spearman's correlation can effectively measure the strength of this association.\n",
    "\n",
    "4. **Outliers Present**: Spearman's correlation is more robust to outliers compared to Pearson's correlation, making it a better choice when your data contain anomalies that could disproportionately influence the results.\n",
    "\n",
    "In summary, use Spearman's correlation when your data are ordinal, not normally distributed, or when you suspect a monotonic relationship that isn't strictly linear. It's also a good choice when your data contain outliers that could affect the results of other correlation measures.\n",
    "\n",
    "--- "
   ]
  },
  {
   "cell_type": "markdown",
   "metadata": {},
   "source": []
  }
 ],
 "metadata": {
  "kernelspec": {
   "display_name": "enviromental_python",
   "language": "python",
   "name": "python3"
  },
  "language_info": {
   "codemirror_mode": {
    "name": "ipython",
    "version": 3
   },
   "file_extension": ".py",
   "mimetype": "text/x-python",
   "name": "python",
   "nbconvert_exporter": "python",
   "pygments_lexer": "ipython3",
   "version": "3.10.16"
  }
 },
 "nbformat": 4,
 "nbformat_minor": 4
}
