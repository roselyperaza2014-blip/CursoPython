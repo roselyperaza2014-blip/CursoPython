{
 "cells": [
  {
   "cell_type": "markdown",
   "id": "0",
   "metadata": {
    "panel-layout": {
     "height": 85.421875,
     "visible": true,
     "width": 100
    }
   },
   "source": [
    "# Shanoon Diversity Test"
   ]
  },
  {
   "cell_type": "markdown",
   "id": "1",
   "metadata": {},
   "source": [
    "##  This is the way to import data from a .csv file into Pyhton's environment usin the command read_csv()."
   ]
  },
  {
   "cell_type": "code",
   "execution_count": 5,
   "id": "2",
   "metadata": {},
   "outputs": [],
   "source": [
    "import pandas as pd\n",
    "\n",
    "def import_csv(file):\n",
    "    # Read the file into a DataFrame: df\n",
    "    import pandas as pd\n",
    "    return pd.read_csv(file)"
   ]
  },
  {
   "cell_type": "code",
   "execution_count": 6,
   "id": "3",
   "metadata": {},
   "outputs": [],
   "source": [
    "# Path to the file to be imported\n",
    "path = \"../data/aedes.csv\"\n",
    "\n",
    "# Import the file\n",
    "aedes_df = import_csv(path)"
   ]
  },
  {
   "cell_type": "markdown",
   "id": "4",
   "metadata": {
    "panel-layout": {
     "height": 102.5625,
     "visible": true,
     "width": 100
    }
   },
   "source": [
    "Now we can obtain statiscal summary of each numerical variable. The simplest way to do this task is\n",
    "using the command .describe(). We only have to define the variable containg the values we are interested in.\n",
    "For example, suppose we want to now the basic statistics of the mosquito abundance, which is contained in a variable\n",
    "called \"count\"."
   ]
  },
  {
   "cell_type": "code",
   "execution_count": 7,
   "id": "5",
   "metadata": {
    "panel-layout": {
     "height": 254,
     "visible": true,
     "width": 100
    }
   },
   "outputs": [
    {
     "data": {
      "application/vnd.microsoft.datawrangler.viewer.v0+json": {
       "columns": [
        {
         "name": "index",
         "rawType": "object",
         "type": "string"
        },
        {
         "name": "count",
         "rawType": "float64",
         "type": "float"
        }
       ],
       "ref": "16b8bea1-77ee-433f-a72d-60c09a7bb6c6",
       "rows": [
        [
         "count",
         "864.0"
        ],
        [
         "mean",
         "23.15162037037037"
        ],
        [
         "std",
         "63.2173056829511"
        ],
        [
         "min",
         "0.0"
        ],
        [
         "25%",
         "0.0"
        ],
        [
         "50%",
         "0.0"
        ],
        [
         "75%",
         "2.0"
        ],
        [
         "max",
         "467.0"
        ]
       ],
       "shape": {
        "columns": 1,
        "rows": 8
       }
      },
      "text/plain": [
       "count    864.000000\n",
       "mean      23.151620\n",
       "std       63.217306\n",
       "min        0.000000\n",
       "25%        0.000000\n",
       "50%        0.000000\n",
       "75%        2.000000\n",
       "max      467.000000\n",
       "Name: count, dtype: float64"
      ]
     },
     "execution_count": 7,
     "metadata": {},
     "output_type": "execute_result"
    }
   ],
   "source": [
    "aedes_df[\"count\"].describe()"
   ]
  },
  {
   "cell_type": "markdown",
   "id": "6",
   "metadata": {
    "panel-layout": {
     "height": 68.28125,
     "visible": true,
     "width": 100
    }
   },
   "source": [
    "Now, suppose we want to get a statistical summary but by variable levels or groups. In this case we have to use\n",
    "the command .groupby(\"grouping variable\")[\"numerical variabe\"], adding a the end of the line the command we used before."
   ]
  },
  {
   "cell_type": "code",
   "execution_count": 8,
   "id": "7",
   "metadata": {
    "panel-layout": {
     "height": 146,
     "visible": true,
     "width": 100
    }
   },
   "outputs": [
    {
     "data": {
      "application/vnd.microsoft.datawrangler.viewer.v0+json": {
       "columns": [
        {
         "name": "season",
         "rawType": "object",
         "type": "string"
        },
        {
         "name": "count",
         "rawType": "float64",
         "type": "float"
        },
        {
         "name": "mean",
         "rawType": "float64",
         "type": "float"
        },
        {
         "name": "std",
         "rawType": "float64",
         "type": "float"
        },
        {
         "name": "min",
         "rawType": "float64",
         "type": "float"
        },
        {
         "name": "25%",
         "rawType": "float64",
         "type": "float"
        },
        {
         "name": "50%",
         "rawType": "float64",
         "type": "float"
        },
        {
         "name": "75%",
         "rawType": "float64",
         "type": "float"
        },
        {
         "name": "max",
         "rawType": "float64",
         "type": "float"
        }
       ],
       "ref": "c46b0e32-d0cd-4753-91ee-c798f91d7a0f",
       "rows": [
        [
         "dry",
         "108.0",
         "38.5462962962963",
         "101.81551800084574",
         "0.0",
         "0.0",
         "0.0",
         "0.0",
         "467.0"
        ],
        [
         "norte",
         "540.0",
         "20.975925925925925",
         "56.48531894305279",
         "0.0",
         "0.0",
         "0.0",
         "2.0",
         "335.0"
        ],
        [
         "rainy",
         "216.0",
         "20.89351851851852",
         "52.41740128807421",
         "0.0",
         "0.0",
         "0.0",
         "2.0",
         "261.0"
        ]
       ],
       "shape": {
        "columns": 8,
        "rows": 3
       }
      },
      "text/html": [
       "<div>\n",
       "<style scoped>\n",
       "    .dataframe tbody tr th:only-of-type {\n",
       "        vertical-align: middle;\n",
       "    }\n",
       "\n",
       "    .dataframe tbody tr th {\n",
       "        vertical-align: top;\n",
       "    }\n",
       "\n",
       "    .dataframe thead th {\n",
       "        text-align: right;\n",
       "    }\n",
       "</style>\n",
       "<table border=\"1\" class=\"dataframe\">\n",
       "  <thead>\n",
       "    <tr style=\"text-align: right;\">\n",
       "      <th></th>\n",
       "      <th>count</th>\n",
       "      <th>mean</th>\n",
       "      <th>std</th>\n",
       "      <th>min</th>\n",
       "      <th>25%</th>\n",
       "      <th>50%</th>\n",
       "      <th>75%</th>\n",
       "      <th>max</th>\n",
       "    </tr>\n",
       "    <tr>\n",
       "      <th>season</th>\n",
       "      <th></th>\n",
       "      <th></th>\n",
       "      <th></th>\n",
       "      <th></th>\n",
       "      <th></th>\n",
       "      <th></th>\n",
       "      <th></th>\n",
       "      <th></th>\n",
       "    </tr>\n",
       "  </thead>\n",
       "  <tbody>\n",
       "    <tr>\n",
       "      <th>dry</th>\n",
       "      <td>108.0</td>\n",
       "      <td>38.546296</td>\n",
       "      <td>101.815518</td>\n",
       "      <td>0.0</td>\n",
       "      <td>0.0</td>\n",
       "      <td>0.0</td>\n",
       "      <td>0.0</td>\n",
       "      <td>467.0</td>\n",
       "    </tr>\n",
       "    <tr>\n",
       "      <th>norte</th>\n",
       "      <td>540.0</td>\n",
       "      <td>20.975926</td>\n",
       "      <td>56.485319</td>\n",
       "      <td>0.0</td>\n",
       "      <td>0.0</td>\n",
       "      <td>0.0</td>\n",
       "      <td>2.0</td>\n",
       "      <td>335.0</td>\n",
       "    </tr>\n",
       "    <tr>\n",
       "      <th>rainy</th>\n",
       "      <td>216.0</td>\n",
       "      <td>20.893519</td>\n",
       "      <td>52.417401</td>\n",
       "      <td>0.0</td>\n",
       "      <td>0.0</td>\n",
       "      <td>0.0</td>\n",
       "      <td>2.0</td>\n",
       "      <td>261.0</td>\n",
       "    </tr>\n",
       "  </tbody>\n",
       "</table>\n",
       "</div>"
      ],
      "text/plain": [
       "        count       mean         std  min  25%  50%  75%    max\n",
       "season                                                         \n",
       "dry     108.0  38.546296  101.815518  0.0  0.0  0.0  0.0  467.0\n",
       "norte   540.0  20.975926   56.485319  0.0  0.0  0.0  2.0  335.0\n",
       "rainy   216.0  20.893519   52.417401  0.0  0.0  0.0  2.0  261.0"
      ]
     },
     "execution_count": 8,
     "metadata": {},
     "output_type": "execute_result"
    }
   ],
   "source": [
    "aedes_df.groupby(\"season\")[\"count\"].describe()"
   ]
  },
  {
   "cell_type": "markdown",
   "id": "8",
   "metadata": {
    "panel-layout": {
     "height": 68.28125,
     "visible": true,
     "width": 100
    }
   },
   "source": [
    "We can visualize this data using Seaborn and Matplotlib.\n",
    "Suposse we want to create a boxplot by season..."
   ]
  },
  {
   "cell_type": "code",
   "execution_count": 9,
   "id": "9",
   "metadata": {
    "panel-layout": {
     "height": 728.140625,
     "visible": true,
     "width": 100
    }
   },
   "outputs": [
    {
     "data": {
      "text/plain": [
       "<function matplotlib.pyplot.show(close=None, block=None)>"
      ]
     },
     "execution_count": 9,
     "metadata": {},
     "output_type": "execute_result"
    },
    {
     "data": {
      "image/png": "[encoded data removed]",
      "text/plain": [
       "<Figure size 640x480 with 1 Axes>"
      ]
     },
     "metadata": {},
     "output_type": "display_data"
    }
   ],
   "source": [
    "import seaborn as sns\n",
    "import matplotlib.pyplot as plt\n",
    "sns.boxplot(x=\"season\", y=\"count\", data= aedes_df)\n",
    "plt.title(\"Aedes spp. by season\")\n",
    "plt.show"
   ]
  },
  {
   "cell_type": "markdown",
   "id": "10",
   "metadata": {
    "panel-layout": {
     "height": 51.140625,
     "visible": true,
     "width": 100
    }
   },
   "source": [
    "Alternatively we can use a violin plot."
   ]
  },
  {
   "cell_type": "code",
   "execution_count": 10,
   "id": "11",
   "metadata": {
    "panel-layout": {
     "height": 728.140625,
     "visible": true,
     "width": 100
    }
   },
   "outputs": [
    {
     "data": {
      "text/plain": [
       "<function matplotlib.pyplot.show(close=None, block=None)>"
      ]
     },
     "execution_count": 10,
     "metadata": {},
     "output_type": "execute_result"
    },
    {
     "data": {
      "image/png": "[encoded data removed]",
      "text/plain": [
       "<Figure size 640x480 with 1 Axes>"
      ]
     },
     "metadata": {},
     "output_type": "display_data"
    }
   ],
   "source": [
    "sns.violinplot(x=\"season\", y=\"count\", data= aedes_df)\n",
    "plt.title(\"Aedes spp. by season\")\n",
    "plt.show"
   ]
  },
  {
   "cell_type": "markdown",
   "id": "12",
   "metadata": {
    "panel-layout": {
     "height": 68.28125,
     "visible": true,
     "width": 100
    }
   },
   "source": [
    "To estimate Shannon diversity index we need to define a function that creates the needed variables.\n",
    "First we need the numpy and scipy.stats libraries from which we will import the function entropy."
   ]
  },
  {
   "cell_type": "code",
   "execution_count": 11,
   "id": "13",
   "metadata": {},
   "outputs": [],
   "source": [
    "import numpy as np\n",
    "from scipy.stats import entropy"
   ]
  },
  {
   "cell_type": "markdown",
   "id": "14",
   "metadata": {
    "panel-layout": {
     "height": 68.28125,
     "visible": true,
     "width": 100
    }
   },
   "source": [
    "Then, we define the function that will estimate de Shannon index as well as spcies richness, total abundance and\n",
    "the Pileous's eveness index."
   ]
  },
  {
   "cell_type": "code",
   "execution_count": 12,
   "id": "15",
   "metadata": {
    "panel-layout": {
     "height": 701,
     "visible": true,
     "width": 100
    }
   },
   "outputs": [],
   "source": [
    "def detailed_shannon(group):\n",
    "    total = group[\"count\"].sum()\n",
    "    props = group[\"count\"] / total\n",
    "    props = props[props > 0]\n",
    "    shannon = -sum(props * np.log(props))\n",
    "\n",
    "    return pd.Series({\n",
    "        \"Richness\": group[\"species\"].nunique(),\n",
    "        \"Total abundance\": total,\n",
    "        \"Shannon\": shannon,\n",
    "        \"Evenness\": shannon / np.log(len(props)) if len(props) > 0 else 0\n",
    "    })\n",
    "\n",
    "\n",
    "results = (\n",
    "    aedes_df.drop(columns=\"season\")\n",
    "    .groupby(aedes_df[\"season\"], group_keys=False)\n",
    "    .apply(detailed_shannon)\n",
    ")"
   ]
  },
  {
   "cell_type": "markdown",
   "id": "16",
   "metadata": {
    "panel-layout": {
     "height": 51.140625,
     "visible": true,
     "width": 100
    }
   },
   "source": [
    "Finally we can plot the estimated Shannon diversity by grouping variable (\"season\")."
   ]
  },
  {
   "cell_type": "code",
   "execution_count": 13,
   "id": "17",
   "metadata": {
    "panel-layout": {
     "height": 728.140625,
     "visible": true,
     "width": 100
    }
   },
   "outputs": [
    {
     "data": {
      "text/plain": [
       "<function matplotlib.pyplot.show(close=None, block=None)>"
      ]
     },
     "execution_count": 13,
     "metadata": {},
     "output_type": "execute_result"
    },
    {
     "data": {
      "image/png": "[encoded data removed]",
      "text/plain": [
       "<Figure size 640x480 with 1 Axes>"
      ]
     },
     "metadata": {},
     "output_type": "display_data"
    }
   ],
   "source": [
    "results.reset_index().plot.bar(x=\"season\", y=\"Shannon\", legend=False)\n",
    "plt.title(\"Shannon diversity index by season\")\n",
    "plt.ylabel(\"Diversity\")\n",
    "plt.show"
   ]
  },
  {
   "cell_type": "markdown",
   "id": "18",
   "metadata": {},
   "source": [
    "#### This code was crated by Canales-Delgadillo J. C. : [Orcid](https://orcid.org/0000-0002-2997-7849);  [Web of science](https://www.webofscience.com/wos/author/record/AAF-2274-2020)\n",
    "Datafile is part of the mosquito-diversity-isla-del-carmen Database (available at https://doi.org/10.5281/zenodo.14976364), and represents abundance records of female Aedes species collected from November 2019 to December 2020 in a mangrove – semideciduous forest patch in Isla del Carmen Campeche, Mexico.\n"
   ]
  }
 ],
 "metadata": {
  "kernelspec": {
   "display_name": "environmental_python",
   "language": "python",
   "name": "python3"
  },
  "language_info": {
   "codemirror_mode": {
    "name": "ipython",
    "version": 3
   },
   "file_extension": ".py",
   "mimetype": "text/x-python",
   "name": "python",
   "nbconvert_exporter": "python",
   "pygments_lexer": "ipython3",
   "version": "3.10.18"
  },
  "panel-cell-order": [
   "ae932039",
   "812708b4",
   "00904cc5",
   "4a225043",
   "a42162d9",
   "85442c18",
   "c73c9196",
   "21c0308b",
   "a76e7a17",
   "a111e1d8",
   "f5eb7fa8",
   "287e28b3",
   "19278fb5",
   "d4451e86"
  ]
 },
 "nbformat": 4,
 "nbformat_minor": 5
}
