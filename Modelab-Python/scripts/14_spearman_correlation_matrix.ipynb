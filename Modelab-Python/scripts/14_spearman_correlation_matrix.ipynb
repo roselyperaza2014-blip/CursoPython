{
 "cells": [
  {
   "cell_type": "markdown",
   "metadata": {},
   "source": [
    "# Spearman's Correlation Matrix"
   ]
  },
  {
   "cell_type": "code",
   "execution_count": null,
   "metadata": {},
   "outputs": [],
   "source": [
    "# Read in the data from the csv file\n",
    "\n",
    "import pandas as pd\n",
    "\n",
    "CO2Data = pd.read_csv(\"../data/Terminos_lagoon_TA_DIC_2023_RawData.csv\")"
   ]
  },
  {
   "cell_type": "code",
   "execution_count": null,
   "metadata": {},
   "outputs": [],
   "source": [
    "# Selec the columns we want to use\n",
    "ta_sal_dic_df = CO2Data[['sal_psu', 'ta_micromol_kg', 'dic_micromol_kg']]\n",
    "\n",
    "# Print df head to check\n",
    "print(ta_sal_dic_df.head())"
   ]
  },
  {
   "cell_type": "code",
   "execution_count": null,
   "metadata": {},
   "outputs": [],
   "source": [
    "#Calculate the Spearman correlation matrix\n",
    "corr_matrix = ta_sal_dic_df.corr(method='spearman')"
   ]
  },
  {
   "cell_type": "code",
   "execution_count": null,
   "metadata": {},
   "outputs": [],
   "source": [
    "# Plot the Spearman correlation matrix\n",
    "\n",
    "import matplotlib.pyplot as plt\n",
    "import seaborn as sns\n",
    "\n",
    "# Plot the heatmap \n",
    "plt.figure(figsize=(8, 6))\n",
    "sns.set(style=\"white\", font_scale=1.2)\n",
    "sns.heatmap(corr_matrix, \n",
    "            annot=True, \n",
    "            fmt=\".2f\", \n",
    "            cmap='cividis', \n",
    "            square=True, \n",
    "            linewidths=0.5, \n",
    "            linecolor='gray',\n",
    "            cbar_kws={'shrink': 0.8})\n",
    "\n",
    "plt.title('Spearman Correlation Matrix', fontsize=14, weight='bold')\n",
    "plt.tight_layout()\n",
    "plt.show()"
   ]
  },
  {
   "cell_type": "markdown",
   "metadata": {},
   "source": [
    "### \n",
    "\n",
    "---"
   ]
  },
  {
   "cell_type": "markdown",
   "metadata": {},
   "source": []
  }
 ],
 "metadata": {
  "kernelspec": {
   "display_name": "enviromental_python",
   "language": "python",
   "name": "python3"
  },
  "language_info": {
   "codemirror_mode": {
    "name": "ipython",
    "version": 3
   },
   "file_extension": ".py",
   "mimetype": "text/x-python",
   "name": "python",
   "nbconvert_exporter": "python",
   "pygments_lexer": "ipython3",
   "version": "3.10.16"
  }
 },
 "nbformat": 4,
 "nbformat_minor": 4
}
