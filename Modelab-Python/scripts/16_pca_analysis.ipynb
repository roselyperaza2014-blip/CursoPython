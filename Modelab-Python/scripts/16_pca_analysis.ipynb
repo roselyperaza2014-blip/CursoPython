{
 "cells": [
  {
   "cell_type": "markdown",
   "metadata": {},
   "source": [
    "# Principal Component Analysis (PCA)\n",
    "This notebook performs PCA on a selected set of environmental variables and visualizes the results with a scree plot and biplot."
   ]
  },
  {
   "cell_type": "code",
   "execution_count": null,
   "metadata": {},
   "outputs": [],
   "source": [
    "import pandas as pd\n",
    "import numpy as np\n",
    "import matplotlib.pyplot as plt\n",
    "from sklearn.decomposition import PCA\n",
    "from sklearn.preprocessing import StandardScaler"
   ]
  },
  {
   "cell_type": "code",
   "execution_count": null,
   "metadata": {},
   "outputs": [],
   "source": [
    "# Read in the data from the csv file\n",
    "CO2Data = pd.read_csv(\"../data/Terminos_lagoon_TA_DIC_2023_RawData.csv\")"
   ]
  },
  {
   "cell_type": "code",
   "execution_count": null,
   "metadata": {},
   "outputs": [],
   "source": [
    "# Select variables for PCA\n",
    "selected_vars = ['depth_m', 'do_mg_l', 'sal_psu', \n",
    "                 'turbidity_fnu', 'temp_c', 'ta_micromol_kg', \n",
    "                 'dic_micromol_kg', 'chlorophy_microg_l']\n",
    "\n",
    "# Drop missing values and scale the data\n",
    "X = CO2Data[selected_vars].dropna()\n",
    "X_scaled = StandardScaler().fit_transform(X)"
   ]
  },
  {
   "cell_type": "markdown",
   "metadata": {},
   "source": [
    "##  Bartlett's test and KMO test for factor analysis suitability."
   ]
  },
  {
   "cell_type": "code",
   "execution_count": null,
   "metadata": {},
   "outputs": [],
   "source": [
    "def perform_adequacy_tests(data, selected_columns):\n",
    "    \"\"\"\n",
    "    Perform Bartlett's test and KMO test for factor analysis.\n",
    "\n",
    "    Parameters:\n",
    "        data (pd.DataFrame): The input dataset.\n",
    "        selected_columns (list): List of column names to include in the analysis.\n",
    "\n",
    "    Returns:\n",
    "        dict: Results of Bartlett's test and KMO test.\n",
    "    \"\"\"\n",
    "    from factor_analyzer.factor_analyzer import calculate_bartlett_sphericity, calculate_kmo\n",
    "\n",
    "    # Select numeric data and drop missing values\n",
    "    numeric_values = data[selected_columns].dropna().select_dtypes(include=['float64', 'int64']).values\n",
    "\n",
    "    # Perform Bartlett's test\n",
    "    chi_square, p_value = calculate_bartlett_sphericity(numeric_values)\n",
    "    print(f\"Bartlett's Test: p-value = {p_value:.4f}, chi-square = {chi_square:.4f}\")\n",
    "\n",
    "    # Perform KMO test\n",
    "    _, kmo_model = calculate_kmo(numeric_values)\n",
    "    print(f\"KMO Value: {kmo_model:.1f}\")\n",
    "\n",
    "   # 📝 Print interpretation of KMO value\n",
    "    if kmo_model > 0.8:\n",
    "        print(\"✅ Suitability: Excellent 🌟\")\n",
    "    elif 0.7 <= kmo_model <= 0.79:\n",
    "        print(\"✅ Suitability: Acceptable 👍\")\n",
    "    elif 0.6 <= kmo_model <= 0.69:\n",
    "        print(\"⚠️ Suitability: Mediocre 🤔\")\n",
    "    else:\n",
    "        print(\"❌ Suitability: Poor 🚫\")\n",
    "\n",
    "    print(\"ℹ️ Interpretation: A KMO value above 0.6 is considered acceptable for factor analysis.\")\n",
    "\n",
    "    # 🔄 Return results\n",
    "    return {\"bartlett\": {\"chi_square\": chi_square, \"p_value\": p_value}, \"kmo\": kmo_model}"
   ]
  },
  {
   "cell_type": "code",
   "execution_count": null,
   "metadata": {},
   "outputs": [],
   "source": [
    "# Select the variables for analysis\n",
    "# Note: Ensure that the column names match those in your dataset\n",
    "selected_vars = ['depth_m', 'do_mg_l', 'sal_psu', \n",
    "                 'turbidity_fnu', 'temp_c', 'ta_micromol_kg', 'dic_micromol_kg', 'chlorophy_microg_l']\n",
    "\n",
    "# Perform the adequacy tests\n",
    "results = perform_adequacy_tests(CO2Data, selected_vars)"
   ]
  },
  {
   "cell_type": "markdown",
   "metadata": {},
   "source": [
    "## Perform PCA "
   ]
  },
  {
   "cell_type": "code",
   "execution_count": null,
   "metadata": {},
   "outputs": [],
   "source": [
    "# Perform PCA\n",
    "pca = PCA()\n",
    "principal_components = pca.fit_transform(X_scaled)\n",
    "explained_variance = pca.explained_variance_ratio_\n",
    "eigenvalues = pca.explained_variance_"
   ]
  },
  {
   "cell_type": "code",
   "execution_count": null,
   "metadata": {},
   "outputs": [],
   "source": [
    "# Scree plot\n",
    "plt.figure(figsize=(8, 5))\n",
    "plt.plot(range(1, len(eigenvalues) + 1), eigenvalues, marker='o')\n",
    "plt.axhline(y=1, color='red', linestyle='--', label='Kaiser Criterion')\n",
    "plt.title('Scree Plot - PCA')\n",
    "plt.xlabel('Principal Component')\n",
    "plt.ylabel('Eigenvalue')\n",
    "plt.legend()\n",
    "plt.grid(True)\n",
    "plt.show()"
   ]
  },
  {
   "cell_type": "markdown",
   "metadata": {},
   "source": [
    "## Simple biplot PCA"
   ]
  },
  {
   "cell_type": "code",
   "execution_count": null,
   "metadata": {},
   "outputs": [],
   "source": [
    "# Biplot function\n",
    "def biplot(scores, coeff, labels=None):\n",
    "    xs = scores[:, 0]\n",
    "    ys = scores[:, 1]\n",
    "    plt.figure(figsize=(8, 6))\n",
    "    plt.scatter(xs, ys, alpha=0.5)\n",
    "    for i in range(coeff.shape[0]):\n",
    "        plt.arrow(0, 0, coeff[i, 0]*2, coeff[i, 1]*2, \n",
    "                  color='r', alpha=0.5)\n",
    "        if labels is None:\n",
    "            plt.text(coeff[i, 0]*2.2, coeff[i, 1]*2.2, f\"Var{i+1}\", color='g')\n",
    "        else:\n",
    "            plt.text(coeff[i, 0]*2.2, coeff[i, 1]*2.2, labels[i], color='g')\n",
    "    plt.xlabel(\"PC1\")\n",
    "    plt.ylabel(\"PC2\")\n",
    "    plt.title(\"Biplot\")\n",
    "    plt.grid()\n",
    "    plt.show()"
   ]
  },
  {
   "cell_type": "code",
   "execution_count": null,
   "metadata": {},
   "outputs": [],
   "source": [
    "# Display biplot for first two principal components\n",
    "biplot(principal_components, pca.components_.T, labels=selected_vars)"
   ]
  },
  {
   "cell_type": "markdown",
   "metadata": {},
   "source": [
    "## Include details on PCA results plot"
   ]
  },
  {
   "cell_type": "code",
   "execution_count": null,
   "metadata": {},
   "outputs": [],
   "source": [
    "import pandas as pd\n",
    "import numpy as np\n",
    "import matplotlib.pyplot as plt\n",
    "from matplotlib import colormaps\n",
    "from matplotlib.patheffects import withStroke\n",
    "from sklearn.decomposition import PCA\n",
    "from sklearn.preprocessing import StandardScaler\n",
    "from typing import Optional, List, Tuple, Union # For type hinting\n",
    "\n",
    "def plot_pca_biplot(\n",
    "    df: pd.DataFrame,\n",
    "    variables: List[str],\n",
    "    group_col: Optional[str] = None,\n",
    "    label_col: Optional[str] = None,\n",
    "    scale_arrows: float = 2.5,\n",
    "    figsize: Tuple[int, int] = (10, 10),\n",
    "    title: str = \"PCA Biplot\",\n",
    "    save_path: Optional[str] = None,\n",
    "    point_size: int = 60,\n",
    "    point_alpha: float = 0.8,\n",
    "    arrow_color: str = 'black',\n",
    "    arrow_linewidth: float = 2.0,\n",
    "    arrow_alpha: float = 0.85,\n",
    "    text_label_fontsize: float = 6.5,\n",
    "    text_label_alpha: float = 0.6,\n",
    "    var_label_fontsize: int = 12,\n",
    "    var_label_color: str = 'green',\n",
    ") -> None:\n",
    "    \"\"\"\n",
    "    Generates a PCA biplot visualizing principal components scores and loadings.\n",
    "\n",
    "    Returns:\n",
    "        None: Displays or saves the Matplotlib plot.\n",
    "    \"\"\"\n",
    "    # 1. Data Preparation\n",
    "    cols_to_use = variables + [col for col in [group_col, label_col] if col]\n",
    "    df_filtered = df.dropna(subset=cols_to_use).copy() # Use .copy() to avoid SettingWithCopyWarning\n",
    "\n",
    "    if df_filtered.empty:\n",
    "        print(\"Warning: DataFrame is empty after dropping NaNs. Cannot generate plot.\")\n",
    "        return\n",
    "\n",
    "    X = df_filtered[variables]\n",
    "    X_scaled = StandardScaler().fit_transform(X)\n",
    "\n",
    "    # 2. PCA Calculation\n",
    "    pca = PCA(n_components=2)\n",
    "    scores = pca.fit_transform(X_scaled) # PC scores for each data point\n",
    "    loadings = pca.components_.T         # Loadings for each variable\n",
    "\n",
    "    # 3. Group and Label Information\n",
    "    groups = df_filtered[group_col] if group_col else None\n",
    "    labels = df_filtered[label_col] if label_col else None\n",
    "    unique_groups = sorted(groups.unique()) if groups is not None else [None] # Handle None case for looping\n",
    "    \n",
    "    # Prepare colors only if grouping is needed\n",
    "    colors = {}\n",
    "    if groups is not None and len(unique_groups) > 0:\n",
    "       num_groups = len(unique_groups)\n",
    "       cmap = colormaps.get_cmap('viridis').resampled(num_groups)\n",
    "       colors = {group: cmap(i) for i, group in enumerate(unique_groups)}\n",
    "    else:\n",
    "        # Set a default color if no grouping or only one group (which might be None)\n",
    "        default_color = 'blue' \n",
    "\n",
    "    # 4. Plotting\n",
    "    fig, ax = plt.subplots(figsize=figsize)\n",
    "    ax.axhline(0, color='lightgray', lw=1, zorder=1)\n",
    "    ax.axvline(0, color='lightgray', lw=1, zorder=1)\n",
    "\n",
    "    # Plot Scores (Data Points)\n",
    "    if groups is not None:\n",
    "        for group in unique_groups:\n",
    "            idx = (groups == group).values\n",
    "            ax.scatter(scores[idx, 0], scores[idx, 1],\n",
    "                       label=str(group), # Ensure group name is string for label\n",
    "                       s=point_size, alpha=point_alpha,\n",
    "                       edgecolor='white', linewidth=0.6,\n",
    "                       color=colors[group], zorder=2)\n",
    "        ax.legend(title=group_col, fontsize=10, title_fontsize=11)\n",
    "    else:\n",
    "        # Plot all points with default color if no groups\n",
    "        ax.scatter(scores[:, 0], scores[:, 1], s=point_size, alpha=point_alpha,\n",
    "                   color=default_color, edgecolor='white', linewidth=0.6, zorder=2)\n",
    "\n",
    "    # Plot Point Labels (if specified)\n",
    "    if labels is not None:\n",
    "        # Iterate using index to ensure alignment with scores\n",
    "        for i, txt in enumerate(labels):\n",
    "             ax.text(scores[i, 0], scores[i, 1], txt,\n",
    "                     fontsize=text_label_fontsize, alpha=text_label_alpha, zorder=3)\n",
    "\n",
    "    # Plot Loadings (Variable Arrows)\n",
    "    for i, var in enumerate(variables):\n",
    "        arrow_x = loadings[i, 0] * scale_arrows\n",
    "        arrow_y = loadings[i, 1] * scale_arrows\n",
    "        ax.arrow(0, 0, arrow_x, arrow_y,\n",
    "                 color=arrow_color, linewidth=arrow_linewidth, alpha=arrow_alpha,\n",
    "                 head_width=0.1, head_length=0.12, length_includes_head=True, zorder=4)\n",
    "        ax.text(arrow_x * 1.1, arrow_y * 1.1, var,\n",
    "                fontsize=var_label_fontsize, ha='center', va='center', color=var_label_color,\n",
    "                path_effects=[withStroke(linewidth=3, foreground='white')], zorder=5)\n",
    "\n",
    "    # 5. Plot Customization & Finalization\n",
    "    ax.set_xlabel(f'PC1 ({pca.explained_variance_ratio_[0]:.1%})', fontsize=14, weight='bold')\n",
    "    ax.set_ylabel(f'PC2 ({pca.explained_variance_ratio_[1]:.1%})', fontsize=14, weight='bold')\n",
    "    ax.set_title(title, fontsize=16, weight='bold')\n",
    "    ax.set_aspect('equal') # Ensure aspect ratio is equal for PCA interpretability\n",
    "\n",
    "    # Set reasonable limits based on scores, adding a margin\n",
    "    margin_factor = 0.1 # Percentage margin\n",
    "    xlim_min, xlim_max = scores[:, 0].min(), scores[:, 0].max()\n",
    "    ylim_min, ylim_max = scores[:, 1].min(), scores[:, 1].max()\n",
    "    x_margin = (xlim_max - xlim_min) * margin_factor\n",
    "    y_margin = (ylim_max - ylim_min) * margin_factor\n",
    "    ax.set_xlim(xlim_min - x_margin, xlim_max + x_margin)\n",
    "    ax.set_ylim(ylim_min - y_margin, ylim_max + y_margin)\n",
    "\n",
    "    plt.tight_layout()\n",
    "\n",
    "    # 6. Save or Show\n",
    "    if save_path:\n",
    "        # Determine DPI based on file extension for common raster formats\n",
    "        is_raster = save_path.lower().endswith(('.png', '.jpg', '.jpeg', '.tiff'))\n",
    "        dpi = 600 if is_raster else None # Use 300 dpi for raster, None for vector (svg, pdf)\n",
    "        try:\n",
    "            plt.savefig(save_path, dpi=dpi, bbox_inches='tight')\n",
    "            print(f\"Plot saved to {save_path}\")\n",
    "        except Exception as e:\n",
    "            print(f\"Error saving plot: {e}\")\n",
    "    \n",
    "    plt.show()\n"
   ]
  },
  {
   "cell_type": "code",
   "execution_count": null,
   "metadata": {},
   "outputs": [],
   "source": [
    "# Ejemplo de uso con los datos cargados\n",
    "plot_pca_biplot(\n",
    "    df=CO2Data,\n",
    "    variables=selected_vars,\n",
    "    group_col='season',\n",
    "    label_col='sample',\n",
    "    title='PCA Biplot - Terminos Lagoon',\n",
    "    save_path='../output_files/pca_biplot_terminos_lagoon.pdf',\n",
    ")"
   ]
  }
 ],
 "metadata": {
  "kernelspec": {
   "display_name": "base",
   "language": "python",
   "name": "python3"
  },
  "language_info": {
   "codemirror_mode": {
    "name": "ipython",
    "version": 3
   },
   "file_extension": ".py",
   "mimetype": "text/x-python",
   "name": "python",
   "nbconvert_exporter": "python",
   "pygments_lexer": "ipython3",
   "version": "3.12.3"
  }
 },
 "nbformat": 4,
 "nbformat_minor": 4
}
