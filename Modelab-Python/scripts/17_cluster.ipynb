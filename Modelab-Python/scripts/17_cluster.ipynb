{
 "cells": [
  {
   "cell_type": "markdown",
   "id": "0",
   "metadata": {},
   "source": [
    "# Exploratory Analysis Functions for Environmental Data Clustering"
   ]
  },
  {
   "cell_type": "code",
   "execution_count": null,
   "id": "1",
   "metadata": {},
   "outputs": [],
   "source": [
    "# Import necessary libraries\n",
    "import pandas as pd\n",
    "import matplotlib.pyplot as plt\n",
    "from sklearn.preprocessing import StandardScaler\n",
    "from scipy.cluster.hierarchy import linkage, dendrogram, fcluster\n",
    "from matplotlib import colormaps"
   ]
  },
  {
   "cell_type": "code",
   "execution_count": null,
   "id": "2",
   "metadata": {},
   "outputs": [],
   "source": [
    "# Read in the data from the csv file\n",
    "CO2Data = pd.read_csv(\"../data/Terminos_lagoon_TA_DIC_2023_RawData.csv\")"
   ]
  },
  {
   "cell_type": "markdown",
   "id": "3",
   "metadata": {},
   "source": [
    "## Set functions to be used later"
   ]
  },
  {
   "cell_type": "code",
   "execution_count": null,
   "id": "4",
   "metadata": {},
   "outputs": [],
   "source": [
    "def preprocess_data(df, variables):\n",
    "    \"\"\"\n",
    "    Standardize selected variables and return clean DataFrame.\n",
    "    \"\"\"\n",
    "    df_clean = df.dropna(subset=variables)\n",
    "    scaler = StandardScaler()\n",
    "    X_scaled = scaler.fit_transform(df_clean[variables])\n",
    "    return df_clean, X_scaled"
   ]
  },
  {
   "cell_type": "code",
   "execution_count": null,
   "id": "5",
   "metadata": {},
   "outputs": [],
   "source": [
    "def perform_hierarchical_clustering(X_scaled, method='ward', n_clusters=3):\n",
    "    \"\"\"\n",
    "    Perform hierarchical clustering and return cluster labels.\n",
    "    \"\"\"\n",
    "    linkage_matrix = linkage(X_scaled, method=method)\n",
    "    cluster_labels = fcluster(linkage_matrix, t=n_clusters, criterion='maxclust')\n",
    "    return linkage_matrix, cluster_labels"
   ]
  },
  {
   "cell_type": "code",
   "execution_count": null,
   "id": "6",
   "metadata": {},
   "outputs": [],
   "source": [
    "\n",
    "def plot_dendrogram(linkage_matrix, labels=None, n_clusters=3):\n",
    "    \"\"\"\n",
    "    Plot a dendrogram from the hierarchical clustering with sample labels.\n",
    "    Annotate the plot with the number of clusters.\n",
    "    \"\"\"\n",
    "    # Generate cluster labels\n",
    "    cluster_labels = fcluster(linkage_matrix, t=n_clusters, criterion='maxclust')\n",
    "\n",
    "    plt.figure(figsize=(10, 5))\n",
    "    dendrogram(\n",
    "        linkage_matrix,\n",
    "        labels=labels,\n",
    "        above_threshold_color='gray'  # Default color for links above the threshold\n",
    "    )\n",
    "    plt.title(f'Hierarchical Clustering Dendrogram\\n(Number of Clusters: {n_clusters})')\n",
    "    plt.xlabel('Sample Labels')\n",
    "    plt.ylabel('Distance')\n",
    "    plt.tight_layout()\n",
    "    plt.show()"
   ]
  },
  {
   "cell_type": "code",
   "execution_count": null,
   "id": "7",
   "metadata": {},
   "outputs": [],
   "source": [
    "# Main workflow\n",
    "\n",
    "# Select variables for clustering\n",
    "selected_vars = ['dic_micromol_kg', 'ta_micromol_kg', 'sal_psu', 'temp_c', 'do_mg_l', 'chlorophy_microg_l','turbidity_fnu']\n",
    "\n",
    "# Preprocess the data;  Drop rows with missing values in selected variables\n",
    "# Standardize the selected variables using StandardScaler\n",
    "df_clean, X_scaled = preprocess_data(CO2Data, selected_vars)\n",
    "\n",
    "# Perform hierarchical clustering sing thue 'ward' method \n",
    "# The number of clusters to be 3,  You can adjust the number of clusters as needed\n",
    "linkage_matrix, clusters = perform_hierarchical_clustering(X_scaled, n_clusters=3)\n",
    " \n",
    "# Add cluster labels to the DataFrame\n",
    "df_clean['cluster'] = clusters\n",
    "\n",
    "# Plot dendrogram using sample labels \n",
    "plot_dendrogram(linkage_matrix, labels=df_clean['sample'].values)"
   ]
  },
  {
   "cell_type": "markdown",
   "id": "8",
   "metadata": {},
   "source": [
    "_________________________________"
   ]
  },
  {
   "cell_type": "markdown",
   "id": "9",
   "metadata": {},
   "source": [
    "## Exercises: \n",
    "- Change the number of clusters to 4 and plot the dendrogram again. \n",
    "- Try different hierarchical clustering methods such as 'single,' 'complete,' or 'average' and observe the differences in the dendrograms. Use the hierarchy documentation: \n",
    "https://docs.scipy.org/doc/scipy/reference/cluster.hierarchy.html"
   ]
  }
 ],
 "metadata": {
  "kernelspec": {
   "display_name": "statistical_python",
   "language": "python",
   "name": "python3"
  },
  "language_info": {
   "codemirror_mode": {
    "name": "ipython",
    "version": 3
   },
   "file_extension": ".py",
   "mimetype": "text/x-python",
   "name": "python",
   "nbconvert_exporter": "python",
   "pygments_lexer": "ipython3",
   "version": "3.11.12"
  }
 },
 "nbformat": 4,
 "nbformat_minor": 5
}
