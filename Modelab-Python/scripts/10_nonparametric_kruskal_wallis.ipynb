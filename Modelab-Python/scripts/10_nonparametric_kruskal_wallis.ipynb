{
 "cells": [
  {
   "attachments": {},
   "cell_type": "markdown",
   "metadata": {},
   "source": [
    "#   Inferential statistic Non-parametric: Kruskal-Wallis test"
   ]
  },
  {
   "cell_type": "markdown",
   "metadata": {},
   "source": [
    "![Non-parametric](../manuals/figures/flowchart_nonparametric.png)\n",
    "Vallat, R. (2018). Pingouin: statistics in Python. Journal of Open Source Software, 3(31), 1026\n",
    "- https://pingouin-stats.org/build/html/index.html\n",
    "- https://doi.org/10.21105/joss.01026"
   ]
  },
  {
   "cell_type": "code",
   "execution_count": 1,
   "metadata": {},
   "outputs": [],
   "source": [
    "def import_csv(file):\n",
    "    # Read the file into a DataFrame: df\n",
    "    import pandas as pd\n",
    "    return pd.read_csv(file)"
   ]
  },
  {
   "cell_type": "code",
   "execution_count": 2,
   "metadata": {},
   "outputs": [],
   "source": [
    "# Path to the file to be imported\n",
    "path = \"../data/Terminos_lagoon_TA_DIC_2023_RawData.csv\"\n",
    "\n",
    "# Import the file\n",
    "co2_data = import_csv(path)"
   ]
  },
  {
   "cell_type": "markdown",
   "metadata": {},
   "source": [
    "## Kruskal-Wallis H-test for independent samples"
   ]
  },
  {
   "cell_type": "code",
   "execution_count": 3,
   "metadata": {},
   "outputs": [],
   "source": [
    "from scipy.stats import kruskal\n",
    "\n",
    "def kruskal_wallis_test(*groups, alpha=0.05):\n",
    "    \"\"\"\n",
    "    Performs the Kruskal-Wallis H-test for independent samples.\n",
    "    Accepts multiple groups as arguments.\n",
    "    Prints the H statistic, p-value, and interpretation.\n",
    "    \"\"\"\n",
    "    result = kruskal(*groups)\n",
    "    \n",
    "    print(f\"H statistic = {result.statistic}\")\n",
    "    print(f\"p-value = {result.pvalue}\")\n",
    "    \n",
    "    if result.pvalue < alpha:\n",
    "        print(\"The difference between groups is statistically significant.\")\n",
    "    else:\n",
    "        print(\"No statistically significant difference between groups.\")\n"
   ]
  },
  {
   "cell_type": "code",
   "execution_count": 4,
   "metadata": {},
   "outputs": [
    {
     "ename": "ModuleNotFoundError",
     "evalue": "No module named 'scikit_posthocs'",
     "output_type": "error",
     "traceback": [
      "\u001b[1;31m---------------------------------------------------------------------------\u001b[0m",
      "\u001b[1;31mModuleNotFoundError\u001b[0m                       Traceback (most recent call last)",
      "Cell \u001b[1;32mIn[4], line 1\u001b[0m\n\u001b[1;32m----> 1\u001b[0m \u001b[38;5;28;01mimport\u001b[39;00m\u001b[38;5;250m \u001b[39m\u001b[38;5;21;01mscikit_posthocs\u001b[39;00m\u001b[38;5;250m \u001b[39m\u001b[38;5;28;01mas\u001b[39;00m\u001b[38;5;250m \u001b[39m\u001b[38;5;21;01msp\u001b[39;00m\n\u001b[0;32m      2\u001b[0m \u001b[38;5;66;03m# You need to install the scikit-posthocs package: conda install -c conda-forge scikit-posthocs\u001b[39;00m\n\u001b[0;32m      4\u001b[0m \u001b[38;5;28;01mdef\u001b[39;00m\u001b[38;5;250m \u001b[39m\u001b[38;5;21mdunn_posthoc\u001b[39m(data, group_col, value_col, p_adjust\u001b[38;5;241m=\u001b[39m\u001b[38;5;124m'\u001b[39m\u001b[38;5;124mbonferroni\u001b[39m\u001b[38;5;124m'\u001b[39m):\n",
      "\u001b[1;31mModuleNotFoundError\u001b[0m: No module named 'scikit_posthocs'"
     ]
    }
   ],
   "source": [
    "import scikit_posthocs as sp\n",
    "# You need to install the scikit-posthocs package: conda install -c conda-forge scikit-posthocs\n",
    "\n",
    "def dunn_posthoc(data, group_col, value_col, p_adjust='bonferroni'):\n",
    "    \"\"\"\n",
    "    Runs Dunn's post-hoc test after Kruskal-Wallis.\n",
    "    \"\"\"\n",
    "    result = sp.posthoc_dunn(data, val_col=value_col, group_col=group_col, p_adjust=p_adjust)\n",
    "    print(result)\n",
    "    return result\n"
   ]
  },
  {
   "cell_type": "code",
   "execution_count": null,
   "metadata": {},
   "outputs": [],
   "source": [
    "# Plot ta values for each area of the lagoon using seaborn\n",
    "import seaborn as sns\n",
    "import matplotlib.pyplot as plt\n",
    "\n",
    "sns.boxplot(x='area', y='ta_micromol_kg', data=co2_data)\n",
    "plt.xlabel('Area of the lagoon')\n",
    "plt.ylabel('Total Alkalinity (micromol/kg)')\n",
    "plt.title('Total Alkalinity by Area of the Lagoon')\n",
    "plt.show()"
   ]
  },
  {
   "cell_type": "code",
   "execution_count": null,
   "metadata": {},
   "outputs": [],
   "source": [
    "# Select the data for each area of the lagoon\n",
    "ta_river = co2_data[co2_data['area'] == 'River']['ta_micromol_kg']\n",
    "ta_plume = co2_data[co2_data['area'] == 'Plume']['ta_micromol_kg']\n",
    "ta_coast= co2_data[co2_data['area'] == 'Coast']['ta_micromol_kg']"
   ]
  },
  {
   "cell_type": "code",
   "execution_count": null,
   "metadata": {},
   "outputs": [],
   "source": [
    "# Perform the Kruskal-Wallis test\n",
    "kruskal_wallis_test(ta_river, ta_plume, ta_coast)"
   ]
  },
  {
   "cell_type": "code",
   "execution_count": null,
   "metadata": {},
   "outputs": [],
   "source": [
    "dunn_posthoc(co2_data, 'area', 'ta_micromol_kg')"
   ]
  },
  {
   "cell_type": "markdown",
   "metadata": {},
   "source": [
    "### Exercise: Perform Kruskal-Wallis test and plot a box plot for DIC and temperature data."
   ]
  },
  {
   "attachments": {},
   "cell_type": "markdown",
   "metadata": {},
   "source": [
    "Vallat, R. (2018). Pingouin: statistics in Python. Journal of Open Source Software, 3(31), 1026\n",
    "- https://pingouin-stats.org/build/html/index.html\n",
    "- https://doi.org/10.21105/joss.01026"
   ]
  }
 ],
 "metadata": {
  "kernelspec": {
   "display_name": "environmental_python",
   "language": "python",
   "name": "python3"
  },
  "language_info": {
   "codemirror_mode": {
    "name": "ipython",
    "version": 3
   },
   "file_extension": ".py",
   "mimetype": "text/x-python",
   "name": "python",
   "nbconvert_exporter": "python",
   "pygments_lexer": "ipython3",
   "version": "3.10.18"
  }
 },
 "nbformat": 4,
 "nbformat_minor": 4
}
