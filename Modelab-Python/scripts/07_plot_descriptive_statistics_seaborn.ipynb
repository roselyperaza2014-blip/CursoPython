{
 "cells": [
  {
   "cell_type": "markdown",
   "metadata": {},
   "source": [
    "#  Seaborn: statistical data visualization"
   ]
  },
  {
   "cell_type": "code",
   "execution_count": null,
   "metadata": {},
   "outputs": [],
   "source": [
    "import pandas as pd\n",
    "# Import the air quality dataset \n",
    "\n",
    "CO2Data = pd.read_csv(\"../data/Terminos_lagoon_TA_DIC_2023_RawData.csv\")\n",
    "\n",
    "print(CO2Data.info())"
   ]
  },
  {
   "cell_type": "markdown",
   "metadata": {},
   "source": [
    "- Load libs and set figure"
   ]
  },
  {
   "cell_type": "code",
   "execution_count": null,
   "metadata": {},
   "outputs": [],
   "source": [
    "import seaborn as sns\n",
    "import matplotlib.pyplot as plt \n",
    "\n",
    "#create your own color array (viridis)\n",
    "my_colors = [\"#5ec962\", \"#3b528b\"]\n",
    "\n",
    "# add color array to set_palette\n",
    "sns.set(font_scale=2, style=\"ticks\", palette= my_colors)"
   ]
  },
  {
   "cell_type": "markdown",
   "metadata": {},
   "source": [
    "- plot boxplot with Catplot in Seaborn"
   ]
  },
  {
   "cell_type": "code",
   "execution_count": null,
   "metadata": {},
   "outputs": [],
   "source": [
    "ax = sns.catplot(data=CO2Data,\n",
    "                 x=\"area\", y=\"ta_micromol_kg\",\n",
    "                hue=\"season\", col=\"estuary\",\n",
    "                kind=\"box\", \n",
    "                height=7, aspect=1)\n",
    "\n",
    "  \n",
    "ax.set(xlabel='', ylabel=' TA ($\\mu mol \\; kg^{-1}$)')\n",
    "\n",
    "ax.set_titles(col_template=\"{col_name}\", row_template=\"{row_name}\")\n",
    "\n",
    "plt.setp(ax._legend.get_title(), fontsize=20)\n",
    "\n",
    "sns.despine(top=False,right=False)\n",
    "\n",
    "plt.show()"
   ]
  },
  {
   "cell_type": "markdown",
   "metadata": {},
   "source": [
    "- plot a violin with Catplot in Seaborn"
   ]
  },
  {
   "cell_type": "code",
   "execution_count": null,
   "metadata": {},
   "outputs": [],
   "source": [
    "ax = sns.catplot(data=CO2Data, \n",
    "                x=\"area\", y=\"ta_micromol_kg\",\n",
    "                hue=\"season\", col=\"estuary\", \n",
    "                kind=\"violin\", \n",
    "                height=7, aspect=1)\n",
    "\n",
    "  \n",
    "ax.set(xlabel='', ylabel=' TA ($\\mu mol \\; kg^{-1}$)')\n",
    "\n",
    "ax.set_titles(col_template=\"{col_name}\", row_template=\"{row_name}\")\n",
    "\n",
    "plt.setp(ax._legend.get_title(), fontsize=20)\n",
    "\n",
    "sns.despine(top=False,right=False)\n",
    "\n",
    "plt.show()"
   ]
  },
  {
   "cell_type": "markdown",
   "metadata": {},
   "source": [
    "- Plotting a three-way ANOVA"
   ]
  },
  {
   "cell_type": "code",
   "execution_count": null,
   "metadata": {},
   "outputs": [],
   "source": [
    "\n",
    "# Draw a pointplot to show pulse as a function of three categorical factors\n",
    "ax = sns.catplot(\n",
    "    data=CO2Data, x=\"season\", \n",
    "    y=\"ta_micromol_kg\", hue=\"estuary\", col=\"area\",\n",
    "    capsize=.2, palette=\"YlGnBu_d\", errorbar=\"se\",\n",
    "    kind=\"point\", height=6, aspect=.75,\n",
    ")\n",
    "ax.despine(left=True)\n",
    "\n",
    "ax.set(xlabel='', ylabel=' TA ($\\mu mol \\; kg^{-1}$)')\n",
    "\n",
    "ax.set_titles(col_template=\"{col_name}\", row_template=\"{row_name}\")\n",
    "\n",
    "plt.setp(ax._legend.get_title(), fontsize=20)\n",
    "\n",
    "sns.despine(top=False,right=False)\n",
    "\n",
    "plt.show()\n"
   ]
  },
  {
   "cell_type": "markdown",
   "metadata": {},
   "source": [
    "- Scatterplots DIC vs Salinity by Estuary "
   ]
  },
  {
   "cell_type": "code",
   "execution_count": null,
   "metadata": {},
   "outputs": [],
   "source": [
    "ax = sns.lmplot(x=\"sal_psu\", y=\"ta_micromol_kg\",\n",
    "                hue=\"season\",col=\"estuary\",\n",
    "                data=CO2Data, \n",
    "                height=7, aspect=1)\n",
    "\n",
    "ax.set(xlabel='Salinity (PSU)', ylabel=' DIC ($\\mu mol \\; kg^{-1}$)')\n",
    "\n",
    "ax.set_titles(col_template=\"{col_name}\", row_template=\"{row_name}\")\n",
    "\n",
    "plt.setp(ax._legend.get_title(), fontsize=20)\n",
    "\n",
    "sns.despine(top=False,right=False)\n",
    "\n",
    "plt.show()"
   ]
  },
  {
   "cell_type": "markdown",
   "metadata": {},
   "source": [
    "## Exercise\n",
    "- How can you modify the units of the figures?  \n",
    "- Check the examples at https://seaborn.pydata.org/ and create your own figures. If possible, use your own data."
   ]
  }
 ],
 "metadata": {
  "kernelspec": {
   "display_name": "base",
   "language": "python",
   "name": "python3"
  },
  "language_info": {
   "codemirror_mode": {
    "name": "ipython",
    "version": 3
   },
   "file_extension": ".py",
   "mimetype": "text/x-python",
   "name": "python",
   "nbconvert_exporter": "python",
   "pygments_lexer": "ipython3",
   "version": "3.12.3"
  }
 },
 "nbformat": 4,
 "nbformat_minor": 4
}
