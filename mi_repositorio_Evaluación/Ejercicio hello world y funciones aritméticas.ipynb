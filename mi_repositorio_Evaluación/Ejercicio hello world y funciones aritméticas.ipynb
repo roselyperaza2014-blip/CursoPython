{
 "cells": [
  {
   "cell_type": "markdown",
   "id": "2c7b04b8",
   "metadata": {},
   "source": [
    "# Ejercicio Parte 1"
   ]
  },
  {
   "cell_type": "code",
   "execution_count": 7,
   "id": "9502baaa",
   "metadata": {},
   "outputs": [
    {
     "name": "stdout",
     "output_type": "stream",
     "text": [
      "¡Hola, mundo soy Rosely!\n"
     ]
    }
   ],
   "source": [
    "def saludar():\n",
    "    print(\"¡Hola, mundo soy Rosely!\")\n",
    "saludar()"
   ]
  },
  {
   "cell_type": "markdown",
   "id": "fec275aa",
   "metadata": {},
   "source": [
    "# Ejercicio Parte 2"
   ]
  },
  {
   "cell_type": "code",
   "execution_count": 22,
   "id": "19e52767",
   "metadata": {},
   "outputs": [
    {
     "name": "stdout",
     "output_type": "stream",
     "text": [
      "8\n"
     ]
    }
   ],
   "source": [
    "def suma(a , b):\n",
    "    return a + b\n",
    "print(suma(5, 3))"
   ]
  },
  {
   "cell_type": "code",
   "execution_count": 23,
   "id": "1ab8e328",
   "metadata": {},
   "outputs": [
    {
     "name": "stdout",
     "output_type": "stream",
     "text": [
      "-5\n"
     ]
    }
   ],
   "source": [
    "def resta(a, b):\n",
    "    return a - b\n",
    "print(resta(5,10))"
   ]
  },
  {
   "cell_type": "code",
   "execution_count": 24,
   "id": "f11a5802",
   "metadata": {},
   "outputs": [
    {
     "name": "stdout",
     "output_type": "stream",
     "text": [
      "60\n"
     ]
    }
   ],
   "source": [
    "def multiplica(a, b):\n",
    "    return a * b\n",
    "print(multiplica(6, 10))"
   ]
  },
  {
   "cell_type": "code",
   "execution_count": 25,
   "id": "cfda10db",
   "metadata": {},
   "outputs": [
    {
     "name": "stdout",
     "output_type": "stream",
     "text": [
      "5.0\n"
     ]
    }
   ],
   "source": [
    "def divide(a, b):\n",
    "    return a / b\n",
    "print(divide(10, 2))"
   ]
  }
 ],
 "metadata": {
  "kernelspec": {
   "display_name": "base",
   "language": "python",
   "name": "python3"
  },
  "language_info": {
   "codemirror_mode": {
    "name": "ipython",
    "version": 3
   },
   "file_extension": ".py",
   "mimetype": "text/x-python",
   "name": "python",
   "nbconvert_exporter": "python",
   "pygments_lexer": "ipython3",
   "version": "3.13.5"
  }
 },
 "nbformat": 4,
 "nbformat_minor": 5
}
