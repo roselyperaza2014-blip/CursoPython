{
 "cells": [
  {
   "cell_type": "markdown",
   "id": "3a5c7ec0",
   "metadata": {},
   "source": [
    "# mi primer uso de markdown\n",
    "## segunda línea\n",
    "**negrita**\n",
    "\n",
    "*italic*"
   ]
  },
  {
   "cell_type": "markdown",
   "id": "9742bf90",
   "metadata": {},
   "source": [
    "* Item 1\n",
    "* Item 2\n",
    "* Item 3\n",
    "\n",
    "1. Item 1\n",
    "2. Item 2\n",
    "3. Item 3"
   ]
  },
  {
   "cell_type": "code",
   "execution_count": null,
   "id": "be484011",
   "metadata": {},
   "outputs": [
    {
     "name": "stdout",
     "output_type": "stream",
     "text": [
      "hola mundo\n",
      "\n"
     ]
    }
   ],
   "source": [
    "print (\"hola mundo\")"
   ]
  },
  {
   "cell_type": "code",
   "execution_count": 3,
   "id": "9ed14016",
   "metadata": {},
   "outputs": [
    {
     "name": "stdout",
     "output_type": "stream",
     "text": [
      "hola mundo 2\n"
     ]
    }
   ],
   "source": [
    "print(\"hola mundo 2\")"
   ]
  },
  {
   "cell_type": "code",
   "execution_count": 4,
   "id": "77fdfb7d",
   "metadata": {},
   "outputs": [
    {
     "data": {
      "text/plain": [
       "8"
      ]
     },
     "execution_count": 4,
     "metadata": {},
     "output_type": "execute_result"
    }
   ],
   "source": [
    "1+7"
   ]
  },
  {
   "cell_type": "code",
   "execution_count": 1,
   "id": "2885c674",
   "metadata": {},
   "outputs": [
    {
     "name": "stdout",
     "output_type": "stream",
     "text": [
      "rosely\n"
     ]
    }
   ],
   "source": [
    "print(\"rosely\")"
   ]
  },
  {
   "cell_type": "code",
   "execution_count": 2,
   "id": "dcd09d18",
   "metadata": {},
   "outputs": [
    {
     "data": {
      "text/plain": [
       "11"
      ]
     },
     "execution_count": 2,
     "metadata": {},
     "output_type": "execute_result"
    }
   ],
   "source": [
    "5+6"
   ]
  },
  {
   "cell_type": "markdown",
   "id": "3d291bb8",
   "metadata": {},
   "source": [
    "# Proyecto\n",
    "## Subproy\n",
    "**222**\n",
    "*222*"
   ]
  },
  {
   "cell_type": "markdown",
   "id": "b937d122",
   "metadata": {},
   "source": []
  },
  {
   "cell_type": "markdown",
   "id": "3d6d864c",
   "metadata": {},
   "source": [
    "[WORMS](https://www.marinespecies.org/)"
   ]
  },
  {
   "cell_type": "code",
   "execution_count": null,
   "id": "7b8ae8b1",
   "metadata": {},
   "outputs": [],
   "source": []
  }
 ],
 "metadata": {
  "kernelspec": {
   "display_name": "base",
   "language": "python",
   "name": "python3"
  },
  "language_info": {
   "codemirror_mode": {
    "name": "ipython",
    "version": 3
   },
   "file_extension": ".py",
   "mimetype": "text/x-python",
   "name": "python",
   "nbconvert_exporter": "python",
   "pygments_lexer": "ipython3",
   "version": "3.13.5"
  }
 },
 "nbformat": 4,
 "nbformat_minor": 5
}
