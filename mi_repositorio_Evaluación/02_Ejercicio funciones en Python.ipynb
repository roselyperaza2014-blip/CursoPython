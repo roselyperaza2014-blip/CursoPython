{
 "cells": [
  {
   "cell_type": "markdown",
   "id": "dbe02ba1",
   "metadata": {},
   "source": [
    "# Ejercicio de funciones compuestas"
   ]
  },
  {
   "cell_type": "markdown",
   "id": "a60adfa1",
   "metadata": {},
   "source": [
    "*-Ejemplo 1*: Función compuesta simple"
   ]
  },
  {
   "cell_type": "markdown",
   "id": "a477e65a",
   "metadata": {},
   "source": [
    "#### $$g(x)= a-b*c$$\n",
    "#### $$f(x)= x^2$$\n",
    "### $$f[g(x)]=(a-b*c)^2$$"
   ]
  },
  {
   "cell_type": "code",
   "execution_count": 24,
   "id": "f08b0d1f",
   "metadata": {},
   "outputs": [],
   "source": [
    "def restar_a_multiplicación(num1,num2,num3):\n",
    "    return num1 - num2 * num3"
   ]
  },
  {
   "cell_type": "code",
   "execution_count": 25,
   "id": "e6bd136c",
   "metadata": {},
   "outputs": [],
   "source": [
    "def cuadrado(num):\n",
    "    return num * num\n"
   ]
  },
  {
   "cell_type": "code",
   "execution_count": 34,
   "id": "a7cb9c40",
   "metadata": {},
   "outputs": [
    {
     "name": "stdout",
     "output_type": "stream",
     "text": [
      "4\n"
     ]
    }
   ],
   "source": [
    "def cuadrado_de_restar_a_multiplicación(num1, num2, num3):\n",
    "    return cuadrado(restar_a_multiplicación(num1, num2, num3))  \n",
    "print(cuadrado_de_restar_a_multiplicación(8, 2, 3))"
   ]
  },
  {
   "cell_type": "markdown",
   "id": "02a953e4",
   "metadata": {},
   "source": [
    "*-Ejemplo 2*: Función compuesta compleja"
   ]
  },
  {
   "cell_type": "markdown",
   "id": "4d752331",
   "metadata": {},
   "source": [
    "## $$f(x)=\\dfrac{1}{x^2-4}$$"
   ]
  },
  {
   "cell_type": "code",
   "execution_count": 36,
   "id": "a7b96278",
   "metadata": {},
   "outputs": [
    {
     "name": "stdout",
     "output_type": "stream",
     "text": [
      "21\n"
     ]
    }
   ],
   "source": [
    "def cuadrado_menos_cuatro(num):\n",
    "    return cuadrado(num) - 4\n",
    "print(cuadrado_menos_cuatro(5))"
   ]
  },
  {
   "cell_type": "code",
   "execution_count": 37,
   "id": "a0f09852",
   "metadata": {},
   "outputs": [],
   "source": [
    "def reciprocal(f):\n",
    "    return 1/f"
   ]
  },
  {
   "cell_type": "code",
   "execution_count": 42,
   "id": "21f457fa",
   "metadata": {},
   "outputs": [
    {
     "name": "stdout",
     "output_type": "stream",
     "text": [
      "0.047619047619047616\n"
     ]
    }
   ],
   "source": [
    "def función_compuesta(x):\n",
    "    return reciprocal(cuadrado_menos_cuatro(x))\n",
    "print(función_compuesta(5))"
   ]
  },
  {
   "cell_type": "markdown",
   "id": "25239dd9",
   "metadata": {},
   "source": [
    "Confirmación de resultado:"
   ]
  },
  {
   "cell_type": "code",
   "execution_count": 43,
   "id": "229626bb",
   "metadata": {},
   "outputs": [
    {
     "data": {
      "text/plain": [
       "0.047619047619047616"
      ]
     },
     "execution_count": 43,
     "metadata": {},
     "output_type": "execute_result"
    }
   ],
   "source": [
    "1/21"
   ]
  }
 ],
 "metadata": {
  "kernelspec": {
   "display_name": "base",
   "language": "python",
   "name": "python3"
  },
  "language_info": {
   "codemirror_mode": {
    "name": "ipython",
    "version": 3
   },
   "file_extension": ".py",
   "mimetype": "text/x-python",
   "name": "python",
   "nbconvert_exporter": "python",
   "pygments_lexer": "ipython3",
   "version": "3.13.5"
  }
 },
 "nbformat": 4,
 "nbformat_minor": 5
}
